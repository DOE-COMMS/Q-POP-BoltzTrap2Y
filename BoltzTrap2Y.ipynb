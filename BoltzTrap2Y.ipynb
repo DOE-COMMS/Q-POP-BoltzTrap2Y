{
  "nbformat": 4,
  "nbformat_minor": 0,
  "metadata": {
    "colab": {
      "name": "BoltzTrap2Y.ipynb",
      "provenance": [],
      "toc_visible": true
    },
    "kernelspec": {
      "display_name": "Python 3",
      "language": "python",
      "name": "python3"
    },
    "language_info": {
      "codemirror_mode": {
        "name": "ipython",
        "version": 3
      },
      "file_extension": ".py",
      "mimetype": "text/x-python",
      "name": "python",
      "nbconvert_exporter": "python",
      "pygments_lexer": "ipython3",
      "version": "3.8.5"
    }
  },
  "cells": [
    {
      "cell_type": "markdown",
      "metadata": {
        "id": "qfMWFkI7OV0-"
      },
      "source": [
        "# Notebook usage of [BoltzTrap2Y](https://boltztrap2y.readthedocs.io/en/latest/)\n",
        "\n",
        "This code is a fork of the [BoltzTrap2](https://gitlab.com/sousaw/BoltzTraP2/-/tree/public) originated from Georg K. H. Madsen and Jesús Carrete and Matthieu J. Verstraete\n",
        "\n",
        " - Changes are only made for constant doping calculations, partially according to [thermodynamic theory of Seebeck coefficients](https://journals.aps.org/prb/abstract/10.1103/PhysRevB.98.224101). The major works include:\n",
        "\n",
        "   1. revised `interface.py` \n",
        "   2. extended `bandlib.py` into `bandlibEXT.py`.\n",
        "   3. extended `io.py` into `ioEXT.py` \n",
        "   4. added ``remesh.py`` for calculations in low temperature (meshed increased to ~100,000 so that the calculated results can be good until a few of 10 K).\n",
        "   5. improved the computational efficiency on the calculations of the chemical potential of electrons (Fermi levels)\n",
        "   6. added `plotpng.py` for figure plot.\n",
        "\n",
        "The following using [jupyter notebook](https://jupyter.org/) demonstrates the code for the calculations of thermoelectric-related properties based on output from VASP for $Ca_3Ru_2O_7$\n",
        "\n",
        "**If one just wants to have a fast test, just click Runtime->Run all**\n",
        "\n",
        "**To restart the test, cilck Edit->Clear all outputs**\n",
        "\n",
        "\n",
        "\n",
        "\n"
      ]
    },
    {
      "cell_type": "markdown",
      "metadata": {
        "id": "UYNVQhETxTzG"
      },
      "source": [
        "# $\\color{red}{\\text{Installation of BoltzTraP2Y}}$"
      ]
    },
    {
      "cell_type": "markdown",
      "metadata": {
        "id": "1M2LhMuPPDeP"
      },
      "source": [
        "**1. clone of the forked branch of BoltzTrap2 code from gitlab.\n",
        "Note that \"!git\" should be used in place of \"git\" in notebook. The same is for the command \"!btp2\" below which is to run the package**"
      ]
    },
    {
      "cell_type": "code",
      "metadata": {
        "id": "Q3FAy260dhvt"
      },
      "source": [
        "!git clone https://gitlab.com/yiwang62/BoltzTraP2.git"
      ],
      "execution_count": null,
      "outputs": []
    },
    {
      "cell_type": "markdown",
      "metadata": {
        "id": "y_gb0qDkGTKI"
      },
      "source": [
        "**2. install the development version**"
      ]
    },
    {
      "cell_type": "code",
      "metadata": {
        "id": "cpWAk1Gt-ZsA"
      },
      "source": [
        "cd BoltzTraP2"
      ],
      "execution_count": null,
      "outputs": []
    },
    {
      "cell_type": "code",
      "metadata": {
        "id": "ruWHIhV6-kwM"
      },
      "source": [
        "pip install -e ."
      ],
      "execution_count": null,
      "outputs": []
    },
    {
      "cell_type": "code",
      "metadata": {
        "id": "ZNLhfju6vIyl"
      },
      "source": [
        "!btp2 dope -h"
      ],
      "execution_count": null,
      "outputs": []
    },
    {
      "cell_type": "markdown",
      "metadata": {
        "id": "DhvIjAEqPcOw"
      },
      "source": [
        "# $\\color{red}{\\text{To calculate the thermoelectirc-related properties}}$\n",
        "This is a demo to calculate/plot of the chemical potentials of electrons based on DOS's derived by mixing DOSCARs for two phases thermoelectric properties for the AFM_b phase based on the calculated results by VASP for Ca2Ru3O7\n",
        "\n",
        "For the kinetic calculations, all the commands follow those from BoltzTraP2. For more details, check out the [BoltzTraP2 tutorial](https://gitlab.com/sousaw/BoltzTraP2/-/wikis/tutorial)."
      ]
    },
    {
      "cell_type": "markdown",
      "metadata": {
        "id": "r99Qx4739zfp"
      },
      "source": [
        "*Move to the folder where the Example folder resided*"
      ]
    },
    {
      "cell_type": "code",
      "metadata": {
        "id": "Iyr84gX8dmU6"
      },
      "source": [
        "cd Example/Ca3Ru2O7"
      ],
      "execution_count": null,
      "outputs": []
    },
    {
      "cell_type": "markdown",
      "metadata": {
        "id": "iIrfHn2u9_gD"
      },
      "source": [
        "BoltzTraP2 represents each electronic band as a trigonometric polynomial. This model must be trained on input data from an electronic structure program in order to determine the coefficients of each polynomial. To complete this step and save the results to a file, we invoke the btp2 frontend in interpolate mode: (for help, try `btp2 interpolate -h`)"
      ]
    },
    {
      "cell_type": "code",
      "metadata": {
        "id": "kHhYlHVzBGFs"
      },
      "source": [
        "!btp2 interpolate -m 5 AFM_b/"
      ],
      "execution_count": null,
      "outputs": []
    },
    {
      "cell_type": "markdown",
      "metadata": {
        "id": "NbLP-9TU-1XW"
      },
      "source": [
        "where  `-m` is a critical parameter controlling how fine the interpolation is. In this case, we tell the program to try and sample five irreducible k points for each one that is present in the input. `AFM_b/` is the folder holding major VASP input/output files, i.e., POSCAR, DOSCAR, EIGENVAL, OUTCAR, and vasprun.xml. After a while, the program will finish and save the results to the interpolation.bt2 file."
      ]
    },
    {
      "cell_type": "markdown",
      "metadata": {
        "id": "i5W4rge5AYt8"
      },
      "source": [
        "Our intersst in BoltzTraP2 is to estimate the thermoelectric properties under given charger carrier doping. To do so, we start from the results of the interpolation step and use the **dope** subcommand (for help, try `btp2 dope -h`):"
      ]
    },
    {
      "cell_type": "code",
      "metadata": {
        "id": "tKNoHcTiFGzA"
      },
      "source": [
        "#!btp2 dope -b 2000 interpolation.bt2 10:310:10 0\n",
        "!btp2 dope -b 1000 interpolation.bt2 10:310:10 0"
      ],
      "execution_count": null,
      "outputs": []
    },
    {
      "cell_type": "markdown",
      "metadata": {
        "id": "i2Yckc0xBFU1"
      },
      "source": [
        "Where `-b 2000` is an approach by smoothening the data mesh into a bin containing 2000 points to resolve the often numerical instability problem. This will explore the temperature range from 100 to 300 K in intervals of 10  K and electron doping level of 1.0`x`$10^{19}$ $e/cm^3$, using the default uniform-relaxation-time model. The output includes:\n",
        "\n",
        " - file `interpolation.dope.trace` # main output file\n",
        " - file `interpolation.dope.dos` # denser DOS\n",
        " - file `interpolation.dope.dos.raw` # raw DOS\n",
        " - folder `figures/` containing the main plots\n",
        "\n",
        " These data can be seen by click the files/folder icon in the left side bar, uncollapse ``BoltzTrap2/Example/Ca2Ru3O7``, then you see them which can be downloaded by right click.\n",
        "\n",
        " For the ``interpolation.dope.trace`` file, the collumns are made of\n",
        "\n",
        "    collum 1, $\\mu-E_f(eV)$ - electron chemical potential\n",
        "\n",
        "    collum 2, $T(K)$ - temperature\n",
        "\n",
        "    collum 3, $N(e/uc)$ - number of charge carries due to doping per unit cell\n",
        "\n",
        "    collum 4, $[1/(Ha*uc)]$ - \n",
        "\n",
        "    collum 5, $S(V/K)$ - Seebeck coefficients by BTE theory\n",
        "\n",
        "    collum 6, $\\sigma/tau0[1/(ohm\\*m\\*s)]$ - trace of electrical conductivity\n",
        "\n",
        "    collum 7, $RH[m^3/C]$ -\n",
        "\n",
        "    collum 8, $kappae/tau0[W/(m\\*K\\*s)]$ -\n",
        "\n",
        "    collum 9, $C_{\\mu}[J/(mole-atom*K)]$ - constant voltage heat capacity, i.e., with given chemical potential\n",
        "\n",
        "    collum 10, $chi[m^3/mol]$ -\n",
        "\n",
        "    collum 11, $C_{el}[J/(mole-atom*K)]$ - heat capacity with constant number of eletrons. i.e., with given doping\n",
        "\n",
        "    collum 12, $S_e(V/K)$ - Seebeck coefficients by thermodynamic understanding, see Phys. Re. B, 98 (2018) 224101.\n",
        "\n",
        "    collum 13, $n_{eff}(e/cm^3)$ - effective carrier concentration\n",
        "\n",
        "    collum 14, $L(W*ohm/K^2)$ - Lorenz number by thermodynamic understanding\n",
        "\n",
        "    collum 15, $\\sigma_h$ - hole electrical conductivity\n",
        "\n",
        "    collum 16, $\\sigma_e$ - electon electrical conductivity\n",
        "\n",
        "    collum 17, $n_h(e/cm^3)$ - hole carrier concentration\n",
        "\n",
        "    collum 18, $n_e(e/cm^3)$ - electron carrier concentration\n",
        "\n",
        "    collum 19, $N_h$ - testing\n",
        "    \n",
        "    collum 20, $N_e$ - testing\n"
      ]
    },
    {
      "cell_type": "markdown",
      "metadata": {
        "id": "FAaQMeWz5DfV"
      },
      "source": [
        "interpolation.dope.trace can be viewed by"
      ]
    },
    {
      "cell_type": "code",
      "metadata": {
        "id": "aC3AFC-E4tvq"
      },
      "source": [
        "cat interpolation.dope.trace"
      ],
      "execution_count": null,
      "outputs": []
    },
    {
      "cell_type": "code",
      "metadata": {
        "id": "q2ALSwlruQG_"
      },
      "source": [
        "#compare the Lorenz Numbers calculated by BTE and TH approaches\n",
        "from IPython.display import Image\n",
        "Image(filename='figures/T-L.png') \n"
      ],
      "execution_count": null,
      "outputs": []
    },
    {
      "cell_type": "code",
      "metadata": {
        "id": "S9NAYVD6wDas"
      },
      "source": [
        "#display the plot for charge carrier mobility\n",
        "from IPython.display import Image\n",
        "Image(filename='figures/T-M.png') "
      ],
      "execution_count": null,
      "outputs": []
    },
    {
      "cell_type": "markdown",
      "metadata": {
        "id": "SODmW1jLMylT"
      },
      "source": [
        "**The following is raw python code to plot any raw data**"
      ]
    },
    {
      "cell_type": "code",
      "metadata": {
        "id": "WVxXlwgKNAAe"
      },
      "source": [
        "import numpy as np\n",
        "import matplotlib\n",
        "import matplotlib.pyplot as plt\n",
        "\n",
        "colors=('k', 'b', 'r', 'c', 'm', 'g', 'y')\n",
        "linestyles = ['-', '--', ':', '-.', '.', ',', 'o', '^', 'v', '<', '>', 's',\n",
        "              '+', 'x', 'd', '1', '2', '3', '4', 'h', 'p', '|', '_', 'D', 'H']\n",
        "    \n",
        "n_lines = len(linestyles)\n",
        "n_colors = len(colors)\n",
        "\n",
        "data = np.genfromtxt('interpolation.dope.trace')\n",
        "\n",
        "def plotXY(x,y,title=\"xx\",xlabel=\"xx\", ylabel=\"yy\", labely=\"\",\n",
        "           figname=\"\", y1=None, labely1=\"\",x1=None, xrange=None,vline=None):\n",
        "    plt.rc('font', size=36)\n",
        "    matplotlib.rcParams['lines.linewidth'] = 2\n",
        "\n",
        "    fig,ax = plt.subplots()\n",
        "    fig.set_size_inches(18,12) #set figsize in inches\n",
        "    ax.plot(x, y, linestyle=linestyles[0], color=colors[0], label=labely)\n",
        "    if y1 is not None:\n",
        "      if x1 is None:\n",
        "        ax.plot(x, y1, linestyle=linestyles[1], color=colors[0], label=labely1)\n",
        "      else:\n",
        "        ax.plot(x1, y1, linestyle=linestyles[1], color=colors[0], label=labely1)\n",
        "\n",
        "    ax.set_title(title)\n",
        "    ax.set_xlabel(xlabel)\n",
        "    ax.set_ylabel(ylabel)\n",
        "    if xrange is not None:\n",
        "      plt.xlim(xrange)\n",
        "      lims = plt.gca().get_xlim()\n",
        "      ii = np.where( (x > lims[0]) &  (x < lims[1]) )[0]\n",
        "      _ymax = y[ii].max()\n",
        "      if y1 is not None: _ymax = max(_ymax, y1[ii].max())\n",
        "      plt.ylim( [0,1.1*_ymax])\n",
        "    \n",
        " \n",
        "    legend = plt.legend(loc=\"best\")\n",
        "    try:\n",
        "      legend.set_draggable(True)\n",
        "    except AttributeError:\n",
        "      pass\n",
        "    if vline is not None:\n",
        "      plt.axvline(x = vline, color = 'purple', linestyle=':', label = '$E_f')\n",
        "\n",
        "    if figname!=\"\": plt.savefig(figname)\n",
        "    plt.show()\n",
        "\n",
        "\n"
      ],
      "execution_count": null,
      "outputs": []
    },
    {
      "cell_type": "markdown",
      "metadata": {
        "id": "UdL6D73FeyFr"
      },
      "source": [
        "*compare the original VASP DOS with the BoltzTrap2 DOS*"
      ]
    },
    {
      "cell_type": "code",
      "metadata": {
        "id": "oU85kFjUfDdW"
      },
      "source": [
        "dos_raw = np.genfromtxt('interpolation.dope.dos_raw')\n",
        "dos = np.genfromtxt('interpolation.dope.dos')\n",
        "\n",
        "plotXY(dos_raw[:,0],dos_raw[:,1],title=\"electron density of states\",\n",
        "       xlabel = \"$band\\ energy$\", ylabel=r\"$DOS\\ (e/eV/cell)$\", labely=\"DOS by VASP\", \n",
        "       figname=\"eDOS\", x1=dos[:,0], y1=dos[:,1], labely1=\"DOS by BoltzTraP2\",\n",
        "       xrange=[-0.2,0.2])"
      ],
      "execution_count": null,
      "outputs": []
    },
    {
      "cell_type": "markdown",
      "metadata": {
        "id": "Mu3cQGpHZROR"
      },
      "source": [
        "*plot the hole/electron mobility*\n",
        "\n",
        "$$    \\mathbf{M}_{h} = \\frac{\\mathbf{\\sigma}_{h}}{ep} $$\n",
        "\n",
        "$$    \\mathbf{M}_{e} = \\frac{\\mathbf{\\sigma}_{e}}{en} $$\n"
      ]
    },
    {
      "cell_type": "code",
      "metadata": {
        "id": "r467RaxcZQb7"
      },
      "source": [
        "x = data[:,1]\n",
        "y = data[:,14]/data[:,18]*100\n",
        "y1 = data[:,15]/data[:,19]*100\n",
        "\n",
        "plotXY(x,y,title=\"Mobility\",xlabel = \"$T (K)$\", ylabel=r\"$M\\,(\\tau_0/e)\\,[cm^2\\,/(V\\,s)]$\", labely=\"hole\", figname=\"T-M-pNn\", y1=y1, labely1=\"electron\")"
      ],
      "execution_count": null,
      "outputs": []
    },
    {
      "cell_type": "markdown",
      "metadata": {
        "id": "YiQSDQKV5lgV"
      },
      "source": [
        "**The following compare the calculated Seebeck coefficients between BTE and TE**"
      ]
    },
    {
      "cell_type": "code",
      "metadata": {
        "id": "1eyqQFu7uuw_"
      },
      "source": [
        "from IPython.display import Image\n",
        "Image(filename='figures/T-S.png') "
      ],
      "execution_count": null,
      "outputs": []
    },
    {
      "cell_type": "markdown",
      "metadata": {
        "id": "OQ6QK-Nq5-yX"
      },
      "source": [
        "**The following compare the calculated heat capacitiies under constant voltage vs constant doping**"
      ]
    },
    {
      "cell_type": "code",
      "metadata": {
        "id": "kGwD_smQu2dX"
      },
      "source": [
        "from IPython.display import Image\n",
        "Image(filename='figures/T-cv.png') "
      ],
      "execution_count": null,
      "outputs": []
    },
    {
      "cell_type": "markdown",
      "metadata": {
        "id": "9z1fnkG2Cty6"
      },
      "source": [
        "**The following plot the effective charge carrier concentration**\n",
        "\n",
        "$$ n_{eff} = \\int_{- \\infty}^{\\infty}{f(1 - f)\\ D\\left( \\varepsilon \\right)d\\varepsilon} $$"
      ]
    },
    {
      "cell_type": "code",
      "metadata": {
        "id": "1DRnQ8IEu8Mw"
      },
      "source": [
        "from IPython.display import Image\n",
        "Image(filename='figures/T-n.png') "
      ],
      "execution_count": null,
      "outputs": []
    },
    {
      "cell_type": "markdown",
      "metadata": {
        "id": "mF6PhqFFaf3r"
      },
      "source": [
        "*plot the hole/electron carrier concentration*\n",
        "\n",
        "$$    n = \\int_{\\varepsilon_{F}}^{+ \\infty}{fDd\\varepsilon} $$\n",
        "\n",
        "$$    p = \\int_{- \\infty}^{\\varepsilon_{F}}{fDd\\varepsilon} $$\n"
      ]
    },
    {
      "cell_type": "code",
      "metadata": {
        "id": "rNo_17raarTB"
      },
      "source": [
        "x = data[:,1]\n",
        "y = data[:,18]\n",
        "y1 = data[:,19]\n",
        "\n",
        "plotXY(x,y,title=\"Carrier concentration\",xlabel = \"$T (K)$\", ylabel=r\"$n\\;\\left[\\mathrm{\\left|e\\right|\\,cm^{-3}}\\right]$\", labely=\"hole\", figname=\"T-n-pNn\", y1=y1, labely1=\"electron\")"
      ],
      "execution_count": null,
      "outputs": []
    },
    {
      "cell_type": "code",
      "metadata": {
        "id": "5uaulUsRvFSi"
      },
      "source": [
        "from IPython.display import Image\n",
        "Image(filename='figures/T-sigma.png') "
      ],
      "execution_count": null,
      "outputs": []
    },
    {
      "cell_type": "markdown",
      "metadata": {
        "id": "KXsybcLyBTGn"
      },
      "source": [
        "# $\\color{red}{\\text{To calculate the electronic contributions to the thermodynamic properties}}$\n",
        "\n",
        "\n",
        "This is a demo to calculate/plot of the chemical potentials of electrons based on DOS's derived by mixing DOSCARs for two phases (AFM_b and AFM_a) calculated by VASP for $Ca_2Ru_3O_7$\n",
        "\n",
        "\n",
        "1. align the two DOS's to 0 K Fermi energy\n",
        "\n",
        "$$ D_{AFM\\_b}^{'}\\left( \\varepsilon \\right) = D_{AFM\\_b}\\left( \\varepsilon + \\varepsilon_{F}^{AFM\\_b} \\right) $$\n",
        "\n",
        "$$ D_{AFM\\_a}^{'}\\left( \\varepsilon \\right) = D_{AFM\\_a}\\left( \\varepsilon + \\varepsilon_{F}^{AFM\\_a} \\right) $$\n",
        "\n",
        "\n",
        "2. mix the DOSs\n",
        "\n",
        "$$ D_{\\text{mix}}^{'}\\left( \\varepsilon \\right) = (1 - x)*D_{AFM\\_b}^{'}\\left( \\varepsilon \\right)+{x*D}_{AFM\\_a}^{'}\\left( \\varepsilon \\right) $$\n",
        "\n",
        "3. solve the following eqqtion for the chemical potential of electrons stating the conservation of the number of electrons\n",
        "\n",
        "$$ \\int_{- \\infty}^{\\infty}{fD_{\\text{mix}}^{'}\\left( \\varepsilon \\right)d\\varepsilon} = \\int_{- \\infty}^{0}{D_{\\text{mix}}^{'}\\left( \\varepsilon \\right)d\\varepsilon} $$\n",
        "\n",
        "under Fermi distribution\n",
        "\n",
        "$$ f = \\frac{1}{e^{\\frac{\\varepsilon - \\mu}{k_{B}T}} + 1} $$\n"
      ]
    },
    {
      "cell_type": "markdown",
      "metadata": {
        "id": "SCniAgqMPuA4"
      },
      "source": [
        "**Set the parameters followed by run/plot**\n",
        "\n",
        "        beta: initial mixxing coef\n",
        "        T0: Low temperature limit\n",
        "        T1: High temperature limit\n",
        "        nT: Number of temperatures\n",
        "        nc: Number of compositions\n",
        "        d0: path of the first phase #AFM-b phase\n",
        "        d1: path of the second phase #AFM-a phase\n"
      ]
    },
    {
      "cell_type": "code",
      "metadata": {
        "id": "y85Xx0P9dm4w"
      },
      "source": [
        "beta=0\n",
        "T0=00\n",
        "T1=300\n",
        "nT=101\n",
        "nc=11\n",
        "d0=\"./AFM_b\"\n",
        "d1=\"./AFM_a\"\n",
        "\n",
        "# calculate/plot \n",
        "import sys\n",
        "sys.path.insert(0, \"../../\")\n",
        "from BoltzTraP2.utilities.dosmixAPI import thermo_run\n",
        "thermo_run(beta, nT, T0, T1, nc, d0, d1)"
      ],
      "execution_count": null,
      "outputs": []
    },
    {
      "cell_type": "markdown",
      "metadata": {
        "id": "TavLbKFg4_MH"
      },
      "source": [
        "## Following codes is plot/compare DOSs between AFM_b and AFM_a"
      ]
    },
    {
      "cell_type": "code",
      "metadata": {
        "id": "mTmlmc7lIry4"
      },
      "source": [
        "import os\n",
        "import numpy as np\n",
        "def get_vaspDOS(d0):\n",
        "  with open (os.path.join(d0,\"DOSCAR\")) as fp:\n",
        "    lines = fp.readlines()\n",
        "  tmp = lines[5]\n",
        "  data_line = tmp[0:32].split(' ') #n_dos >10000, no space left before it in VASP\n",
        "  data_line.extend(tmp[32:].split(' '))\n",
        "  # filter out empty spaces\n",
        "  data_line = [k for k in data_line if k != '']\n",
        "  n_dos, eFermi = (int(data_line[2]),float(data_line[3])) \n",
        "  data = np.genfromtxt(os.path.join(d0,\"DOSCAR\"), skip_header=6,\n",
        "      skip_footer=len(lines)-n_dos-6)\n",
        "  return data[:,0]-eFermi, data[:,1]\n",
        "\n",
        "e0,dos0 = get_vaspDOS(d0)\n",
        "e1,dos1 = get_vaspDOS(d1)\n",
        "\n",
        "\n",
        "plotXY(e0,dos0,\n",
        "      title=\"electron density of states\",\n",
        "      xlabel = \"$band\\ energy$\", ylabel=r\"$DOS\\ (e/eV/cell)$\", labely=\"AFM-b\", \n",
        "      figname=\"edos-PBEsol\", \n",
        "      x1=e1, y1=dos1,labely1=\"AFM-a\",\n",
        "      xrange=[-0.2,0.2],vline=0)"
      ],
      "execution_count": null,
      "outputs": []
    },
    {
      "cell_type": "markdown",
      "metadata": {
        "id": "Oj7tNtUe36xf"
      },
      "source": [
        "## Output \n",
        "The output is to a file named ``thermo.out`` containing the collumn of $T$   $x$   $\\mu$ and etc. To downloand the ``thermo.out``, click the files/folder icon in the left side bar, uncollapse ``BoltzTrap2/Example/Ca2Ru3O7``, then you see ``thermo.out`` which can be downloaded by right click "
      ]
    },
    {
      "cell_type": "markdown",
      "metadata": {
        "id": "0PLLdlVsSJK1"
      },
      "source": [
        "# The followings are for ploting properties at given composition of the second phase"
      ]
    },
    {
      "cell_type": "markdown",
      "metadata": {
        "id": "WiMmr_Nkgiw5"
      },
      "source": [
        "## The Lorenz Number\n",
        "$$ L = \\frac{k_{B}}{e^{2}}\\frac{C_{el}}{n_{eff}} $$"
      ]
    },
    {
      "cell_type": "code",
      "metadata": {
        "id": "KGMIHIaUSbse"
      },
      "source": [
        "x = 0.8\n",
        "import numpy as np\n",
        "from BoltzTraP2.utilities.dosmixAPI import plotcom\n",
        "data = np.genfromtxt('thermo.out')\n",
        "\n",
        "plotcom(1,6,data,x,title=\"L\",ylabel=\"Lorenz Number ($W Ω K^2$)\")"
      ],
      "execution_count": null,
      "outputs": []
    },
    {
      "cell_type": "markdown",
      "metadata": {
        "id": "M4dkpqXemf8L"
      },
      "source": [
        "## The Seebeck Coef.\n",
        "\n",
        "$$ S_{e} = - \\frac{1}{en_{eff}T}\\int_{- \\infty}^{\\infty}{\\left( \\varepsilon - \\mu \\right)\\left( 1 - f \\right)fD(\\varepsilon)d\\varepsilon} $$"
      ]
    },
    {
      "cell_type": "code",
      "metadata": {
        "id": "8fRvZxgcmwi5"
      },
      "source": [
        "plotcom(1,7,data,x,title=\"S_e\",ylabel=\"Seebeck Coefficient (${\\mu}V/K$)\",filename=\"S_e\")"
      ],
      "execution_count": null,
      "outputs": []
    },
    {
      "cell_type": "markdown",
      "metadata": {
        "id": "1DYi38smgvXl"
      },
      "source": [
        "## The electronic contribution to entropy\n",
        "\n",
        "$$ S_{el} = {- k}_{B}\\int_{}^{}{\\left\\lbrack flnf + \\left( 1 - f \\right)\\ln\\left( 1 - f \\right) \\right\\rbrack D\\left( \\varepsilon \\right)d\\varepsilon} $$\n"
      ]
    },
    {
      "cell_type": "code",
      "metadata": {
        "id": "VDB-W3guVFzw"
      },
      "source": [
        "plotcom(1,3,data,x,title=\"$S_{el}$\",ylabel=\"$S_{el}$ ($J/T/mole-atom$)\",filename=\"S_el\")"
      ],
      "execution_count": null,
      "outputs": []
    },
    {
      "cell_type": "markdown",
      "metadata": {
        "id": "Q-Y4h1T0hBjQ"
      },
      "source": [
        "## The electronic contribution to heat capacity with fixed doping\n",
        "\n",
        "$$ C_{el} = \\frac{1}{k_{B}T^{2}}\\left\\{ \\int_{}^{}{f\\left( 1 - f \\right)\\left\\lbrack \\varepsilon - \\mu\\left( T \\right) \\right\\rbrack^{2}}D\\left( \\varepsilon \\right)d\\varepsilon - \\frac{\\left\\lbrack \\int_{}^{}{f\\left( 1 - f \\right)\\left\\lbrack \\varepsilon - \\mu\\left( T \\right) \\right\\rbrack D(\\varepsilon)d\\varepsilon} \\right\\rbrack^{2}}{\\int_{}^{}{f\\left( 1 - f \\right)D(\\varepsilon)d\\varepsilon}} \\right\\} $$"
      ]
    },
    {
      "cell_type": "code",
      "metadata": {
        "id": "fWnt8eQTVeTT"
      },
      "source": [
        "plotcom(1,4,data,x,title=\"$C_{el}$\",ylabel=\"$C_{el}$ ($J/T/mole-atom$)\",filename=\"C_el\")"
      ],
      "execution_count": null,
      "outputs": []
    },
    {
      "cell_type": "markdown",
      "metadata": {
        "id": "x1pRgKhRheho"
      },
      "source": [
        "## The electronic contribution to heat capacity with fixed voltage\n",
        "\n",
        "$$ C_{\\mu} = T\\left( \\frac{\\partial S_{el}}{\\partial T} \\right)_{\\mu}\\mathrm{=}\\frac{1}{k_{B}T^{2}}\\left\\{ \\int_{}^{}{f\\left( 1 - f \\right)\\left\\lbrack \\varepsilon - \\mu\\left( T \\right) \\right\\rbrack^{2}}D\\left( \\varepsilon \\right)d\\varepsilon \\right\\} $$"
      ]
    },
    {
      "cell_type": "code",
      "metadata": {
        "id": "ITDvbPsPVmwp"
      },
      "source": [
        "plotcom(1,5,data,x,title=\"$C_{\\mu}$\",ylabel=\"$C_{\\mu}$ ($J/T/mole-atom$)\",filename=\"C_mu\")"
      ],
      "execution_count": null,
      "outputs": []
    },
    {
      "cell_type": "markdown",
      "metadata": {
        "id": "NZfe8VLi4ULn"
      },
      "source": [
        "**view the raw output**"
      ]
    },
    {
      "cell_type": "code",
      "metadata": {
        "id": "r5EgInqZ4QLI"
      },
      "source": [
        "!cat thermo.out"
      ],
      "execution_count": null,
      "outputs": []
    },
    {
      "cell_type": "markdown",
      "metadata": {
        "id": "BPHpSV-1ix6p"
      },
      "source": [
        "## The number of effective charger carriers\n",
        "\n",
        "$$ n_{eff} = \\int_{- \\infty}^{\\infty}{f(1 - f)\\ D\\left( \\varepsilon \\right)d\\varepsilon} $$\n"
      ]
    },
    {
      "cell_type": "code",
      "metadata": {
        "id": "0NBQ1oEPV1sn"
      },
      "source": [
        "plotcom(1,8,data,x,title=\"$n_{eff}$\",ylabel=\"$n_{eff}$ ($e/cm^3$)\",filename=\"n_eff\")"
      ],
      "execution_count": null,
      "outputs": []
    },
    {
      "cell_type": "markdown",
      "metadata": {
        "id": "47Sl5uRLjTSo"
      },
      "source": [
        "## The number of artificial holes\n",
        "\n",
        "$$ n_{p} = \\int_{- \\infty}^{E_f}{(1 - f)\\ D\\left( \\varepsilon \\right)d\\varepsilon} $$"
      ]
    },
    {
      "cell_type": "code",
      "metadata": {
        "id": "NOCngggGV3Xu"
      },
      "source": [
        "plotcom(1,9,data,x,title=\"$n_p$\",ylabel=\"$n_p$ ($e/cm^3$)\",filename=\"n_p\")"
      ],
      "execution_count": null,
      "outputs": []
    },
    {
      "cell_type": "markdown",
      "metadata": {
        "id": "MN8NEaVfje2R"
      },
      "source": [
        "## The number of artificial electrons\n",
        "$$ n_{e} = \\int_{E_f}^{\\infty}{f\\ D\\left( \\varepsilon \\right)d\\varepsilon} $$"
      ]
    },
    {
      "cell_type": "code",
      "metadata": {
        "id": "RwDGekr6V4gv"
      },
      "source": [
        "plotcom(1,10,data,x,title=\"$n_e$\",ylabel=\"$n_e$ ($e/cm^3$)\",filename=\"n_e\")"
      ],
      "execution_count": null,
      "outputs": []
    },
    {
      "cell_type": "markdown",
      "metadata": {
        "id": "XaAGOkTssRJu"
      },
      "source": [
        ""
      ]
    },
    {
      "cell_type": "markdown",
      "metadata": {
        "id": "dgcSB8J26ujt"
      },
      "source": [
        "# $\\color{red}{\\text{Use your own data}}$\n",
        "\n",
        "If you want, you can upload your own files using the following codes so that you can run this notebook using your own data\n",
        "\n",
        "1. zip your folders into a file, say xxx.zip\n",
        "2. upload the zip file::\n",
        "\n",
        "  from google.colab import files\n",
        "  \n",
        "  files.upload()\n",
        "\n",
        "3. unzip the file::\n",
        "\n",
        "  !unzip xxx.zip"
      ]
    },
    {
      "cell_type": "code",
      "metadata": {
        "id": "QAE6pJh3Z-WD"
      },
      "source": [
        "import sys\n",
        "from google.colab import files\n",
        "files.upload()\n",
        "!unzip Ca3Ru2O7LDA.zip #Ca3Ru2O7LDA.zip is the file name of the zipped file"
      ],
      "execution_count": null,
      "outputs": []
    },
    {
      "cell_type": "code",
      "metadata": {
        "id": "ePXmEewMSI_d"
      },
      "source": [
        "d0=\"./LDA_AFM_b\"\r\n",
        "d1=\"./LDA_AFM_a\"\r\n",
        "e0,dos0 = get_vaspDOS(d0)\r\n",
        "e1,dos1 = get_vaspDOS(d1)\r\n",
        "\r\n",
        "plotXY(e0,dos0,\r\n",
        "      title=\"electron density of states\",\r\n",
        "      xlabel = \"$band\\ energy$\", ylabel=r\"$DOS\\ (e/eV/cell)$\", labely=\"AFM-b\", \r\n",
        "      figname=\"edos-PBEsol\", \r\n",
        "      x1=e1, y1=dos1,labely1=\"AFM-a\",\r\n",
        "      xrange=[-0.2,0.2],vline=0)"
      ],
      "execution_count": null,
      "outputs": []
    },
    {
      "cell_type": "code",
      "metadata": {
        "id": "7_jA4dwBbbis"
      },
      "source": [
        "!btp2 interpolate -m 5 LDA_AFM_b/\n",
        "!btp2 dope -b 1000 interpolation.bt2 10:310:10 0"
      ],
      "execution_count": null,
      "outputs": []
    },
    {
      "cell_type": "code",
      "metadata": {
        "id": "oxbYkEc1cbiH"
      },
      "source": [
        "#display the plot for charge carrier mobility\n",
        "from IPython.display import Image\n",
        "Image(filename='figures/T-M.png') "
      ],
      "execution_count": null,
      "outputs": []
    }
  ]
}